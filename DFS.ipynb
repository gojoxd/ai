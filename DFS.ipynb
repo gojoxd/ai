{
 "cells": [
  {
   "cell_type": "code",
   "execution_count": 1,
   "id": "ae1624f4-369c-4d8f-8c3c-cb1e87bf7804",
   "metadata": {},
   "outputs": [
    {
     "name": "stdout",
     "output_type": "stream",
     "text": [
      "Following is the Depth-First Search\n",
      "A\n",
      "B\n",
      "E\n",
      "F\n",
      "G\n",
      "C\n",
      "D\n",
      "I\n",
      "J\n",
      "H\n"
     ]
    }
   ],
   "source": [
    "graph = {\n",
    "    'A' : ['B','C','H'],\n",
    "    'B' : ['E'],\n",
    "    'C' : ['D'],\n",
    "    'D' : ['E','I'],\n",
    "    'E' : ['F'],\n",
    "    'F' : ['G'],\n",
    "    'G' : [],\n",
    "    'H' : ['I'],\n",
    "    'I' : ['J'],\n",
    "    'J' : []\n",
    "}\n",
    "\n",
    "visited = set() # Set to keep track of visited nodes of graph.\n",
    "\n",
    "def dfs(visited, graph, node): #function for dfs\n",
    "    if node not in visited:\n",
    "        print (node)\n",
    "        visited.add(node)\n",
    "        for neighbour in graph[node]:\n",
    "            dfs(visited, graph, neighbour)\n",
    "\n",
    "# Driver Code\n",
    "print(\"Following is the Depth-First Search\")\n",
    "dfs(visited, graph, 'A')"
   ]
  },
  {
   "cell_type": "code",
   "execution_count": null,
   "id": "7c351ded-5225-46f6-9533-6416a58f28de",
   "metadata": {},
   "outputs": [],
   "source": []
  }
 ],
 "metadata": {
  "kernelspec": {
   "display_name": "Python 3 (ipykernel)",
   "language": "python",
   "name": "python3"
  },
  "language_info": {
   "codemirror_mode": {
    "name": "ipython",
    "version": 3
   },
   "file_extension": ".py",
   "mimetype": "text/x-python",
   "name": "python",
   "nbconvert_exporter": "python",
   "pygments_lexer": "ipython3",
   "version": "3.11.7"
  }
 },
 "nbformat": 4,
 "nbformat_minor": 5
}

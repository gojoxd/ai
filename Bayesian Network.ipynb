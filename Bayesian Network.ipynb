{
 "cells": [
  {
   "cell_type": "code",
   "execution_count": 1,
   "id": "b0a3a03d-4977-41dd-aa47-9ce7780ae1a9",
   "metadata": {},
   "outputs": [
    {
     "name": "stdout",
     "output_type": "stream",
     "text": [
      "Requirement already satisfied: pgmpy in c:\\users\\naiks\\anaconda3\\lib\\site-packages (0.1.26)\n",
      "Requirement already satisfied: networkx in c:\\users\\naiks\\anaconda3\\lib\\site-packages (from pgmpy) (3.1)\n",
      "Requirement already satisfied: numpy in c:\\users\\naiks\\anaconda3\\lib\\site-packages (from pgmpy) (1.23.5)\n",
      "Requirement already satisfied: scipy in c:\\users\\naiks\\anaconda3\\lib\\site-packages (from pgmpy) (1.11.4)\n",
      "Requirement already satisfied: scikit-learn in c:\\users\\naiks\\anaconda3\\lib\\site-packages (from pgmpy) (1.2.2)\n",
      "Requirement already satisfied: pandas in c:\\users\\naiks\\anaconda3\\lib\\site-packages (from pgmpy) (2.1.4)\n",
      "Requirement already satisfied: pyparsing in c:\\users\\naiks\\anaconda3\\lib\\site-packages (from pgmpy) (3.0.9)\n",
      "Requirement already satisfied: torch in c:\\users\\naiks\\anaconda3\\lib\\site-packages (from pgmpy) (2.3.1)\n",
      "Requirement already satisfied: statsmodels in c:\\users\\naiks\\anaconda3\\lib\\site-packages (from pgmpy) (0.14.0)\n",
      "Requirement already satisfied: tqdm in c:\\users\\naiks\\anaconda3\\lib\\site-packages (from pgmpy) (4.65.0)\n",
      "Requirement already satisfied: joblib in c:\\users\\naiks\\anaconda3\\lib\\site-packages (from pgmpy) (1.2.0)\n",
      "Requirement already satisfied: opt-einsum in c:\\users\\naiks\\anaconda3\\lib\\site-packages (from pgmpy) (3.3.0)\n",
      "Requirement already satisfied: xgboost in c:\\users\\naiks\\anaconda3\\lib\\site-packages (from pgmpy) (2.0.3)\n",
      "Requirement already satisfied: google-generativeai in c:\\users\\naiks\\anaconda3\\lib\\site-packages (from pgmpy) (0.8.4)\n",
      "Requirement already satisfied: google-ai-generativelanguage==0.6.15 in c:\\users\\naiks\\anaconda3\\lib\\site-packages (from google-generativeai->pgmpy) (0.6.15)\n",
      "Requirement already satisfied: google-api-core in c:\\users\\naiks\\anaconda3\\lib\\site-packages (from google-generativeai->pgmpy) (2.24.1)\n",
      "Requirement already satisfied: google-api-python-client in c:\\users\\naiks\\anaconda3\\lib\\site-packages (from google-generativeai->pgmpy) (2.161.0)\n",
      "Requirement already satisfied: google-auth>=2.15.0 in c:\\users\\naiks\\anaconda3\\lib\\site-packages (from google-generativeai->pgmpy) (2.38.0)\n",
      "Requirement already satisfied: protobuf in c:\\users\\naiks\\anaconda3\\lib\\site-packages (from google-generativeai->pgmpy) (4.25.6)\n",
      "Requirement already satisfied: pydantic in c:\\users\\naiks\\anaconda3\\lib\\site-packages (from google-generativeai->pgmpy) (1.10.12)\n",
      "Requirement already satisfied: typing-extensions in c:\\users\\naiks\\anaconda3\\lib\\site-packages (from google-generativeai->pgmpy) (4.9.0)\n",
      "Requirement already satisfied: proto-plus<2.0.0dev,>=1.22.3 in c:\\users\\naiks\\anaconda3\\lib\\site-packages (from google-ai-generativelanguage==0.6.15->google-generativeai->pgmpy) (1.26.0)\n",
      "Requirement already satisfied: python-dateutil>=2.8.2 in c:\\users\\naiks\\anaconda3\\lib\\site-packages (from pandas->pgmpy) (2.8.2)\n",
      "Requirement already satisfied: pytz>=2020.1 in c:\\users\\naiks\\anaconda3\\lib\\site-packages (from pandas->pgmpy) (2023.3.post1)\n",
      "Requirement already satisfied: tzdata>=2022.1 in c:\\users\\naiks\\anaconda3\\lib\\site-packages (from pandas->pgmpy) (2023.3)\n",
      "Requirement already satisfied: threadpoolctl>=2.0.0 in c:\\users\\naiks\\anaconda3\\lib\\site-packages (from scikit-learn->pgmpy) (2.2.0)\n",
      "Requirement already satisfied: patsy>=0.5.2 in c:\\users\\naiks\\anaconda3\\lib\\site-packages (from statsmodels->pgmpy) (0.5.3)\n",
      "Requirement already satisfied: packaging>=21.3 in c:\\users\\naiks\\anaconda3\\lib\\site-packages (from statsmodels->pgmpy) (23.1)\n",
      "Requirement already satisfied: filelock in c:\\users\\naiks\\anaconda3\\lib\\site-packages (from torch->pgmpy) (3.13.1)\n",
      "Requirement already satisfied: sympy in c:\\users\\naiks\\anaconda3\\lib\\site-packages (from torch->pgmpy) (1.12)\n",
      "Requirement already satisfied: jinja2 in c:\\users\\naiks\\anaconda3\\lib\\site-packages (from torch->pgmpy) (3.1.3)\n",
      "Requirement already satisfied: fsspec in c:\\users\\naiks\\anaconda3\\lib\\site-packages (from torch->pgmpy) (2023.10.0)\n",
      "Requirement already satisfied: mkl<=2021.4.0,>=2021.1.1 in c:\\users\\naiks\\anaconda3\\lib\\site-packages (from torch->pgmpy) (2021.4.0)\n",
      "Requirement already satisfied: colorama in c:\\users\\naiks\\anaconda3\\lib\\site-packages (from tqdm->pgmpy) (0.4.6)\n",
      "Requirement already satisfied: googleapis-common-protos<2.0.dev0,>=1.56.2 in c:\\users\\naiks\\anaconda3\\lib\\site-packages (from google-api-core->google-generativeai->pgmpy) (1.68.0)\n",
      "Requirement already satisfied: requests<3.0.0.dev0,>=2.18.0 in c:\\users\\naiks\\anaconda3\\lib\\site-packages (from google-api-core->google-generativeai->pgmpy) (2.31.0)\n",
      "Requirement already satisfied: cachetools<6.0,>=2.0.0 in c:\\users\\naiks\\anaconda3\\lib\\site-packages (from google-auth>=2.15.0->google-generativeai->pgmpy) (4.2.2)\n",
      "Requirement already satisfied: pyasn1-modules>=0.2.1 in c:\\users\\naiks\\anaconda3\\lib\\site-packages (from google-auth>=2.15.0->google-generativeai->pgmpy) (0.2.8)\n",
      "Requirement already satisfied: rsa<5,>=3.1.4 in c:\\users\\naiks\\anaconda3\\lib\\site-packages (from google-auth>=2.15.0->google-generativeai->pgmpy) (4.9)\n",
      "Requirement already satisfied: intel-openmp==2021.* in c:\\users\\naiks\\anaconda3\\lib\\site-packages (from mkl<=2021.4.0,>=2021.1.1->torch->pgmpy) (2021.4.0)\n",
      "Requirement already satisfied: tbb==2021.* in c:\\users\\naiks\\anaconda3\\lib\\site-packages (from mkl<=2021.4.0,>=2021.1.1->torch->pgmpy) (2021.13.0)\n",
      "Requirement already satisfied: six in c:\\users\\naiks\\anaconda3\\lib\\site-packages (from patsy>=0.5.2->statsmodels->pgmpy) (1.16.0)\n",
      "Requirement already satisfied: httplib2<1.dev0,>=0.19.0 in c:\\users\\naiks\\anaconda3\\lib\\site-packages (from google-api-python-client->google-generativeai->pgmpy) (0.22.0)\n",
      "Requirement already satisfied: google-auth-httplib2<1.0.0,>=0.2.0 in c:\\users\\naiks\\anaconda3\\lib\\site-packages (from google-api-python-client->google-generativeai->pgmpy) (0.2.0)\n",
      "Requirement already satisfied: uritemplate<5,>=3.0.1 in c:\\users\\naiks\\anaconda3\\lib\\site-packages (from google-api-python-client->google-generativeai->pgmpy) (4.1.1)\n",
      "Requirement already satisfied: MarkupSafe>=2.0 in c:\\users\\naiks\\anaconda3\\lib\\site-packages (from jinja2->torch->pgmpy) (2.1.3)\n",
      "Requirement already satisfied: mpmath>=0.19 in c:\\users\\naiks\\anaconda3\\lib\\site-packages (from sympy->torch->pgmpy) (1.3.0)\n",
      "Requirement already satisfied: grpcio<2.0dev,>=1.33.2 in c:\\users\\naiks\\anaconda3\\lib\\site-packages (from google-api-core[grpc]!=2.0.*,!=2.1.*,!=2.10.*,!=2.2.*,!=2.3.*,!=2.4.*,!=2.5.*,!=2.6.*,!=2.7.*,!=2.8.*,!=2.9.*,<3.0.0dev,>=1.34.1->google-ai-generativelanguage==0.6.15->google-generativeai->pgmpy) (1.70.0)\n",
      "Requirement already satisfied: grpcio-status<2.0.dev0,>=1.33.2 in c:\\users\\naiks\\anaconda3\\lib\\site-packages (from google-api-core[grpc]!=2.0.*,!=2.1.*,!=2.10.*,!=2.2.*,!=2.3.*,!=2.4.*,!=2.5.*,!=2.6.*,!=2.7.*,!=2.8.*,!=2.9.*,<3.0.0dev,>=1.34.1->google-ai-generativelanguage==0.6.15->google-generativeai->pgmpy) (1.70.0)\n",
      "Requirement already satisfied: pyasn1<0.5.0,>=0.4.6 in c:\\users\\naiks\\anaconda3\\lib\\site-packages (from pyasn1-modules>=0.2.1->google-auth>=2.15.0->google-generativeai->pgmpy) (0.4.8)\n",
      "Requirement already satisfied: charset-normalizer<4,>=2 in c:\\users\\naiks\\anaconda3\\lib\\site-packages (from requests<3.0.0.dev0,>=2.18.0->google-api-core->google-generativeai->pgmpy) (2.0.4)\n",
      "Requirement already satisfied: idna<4,>=2.5 in c:\\users\\naiks\\anaconda3\\lib\\site-packages (from requests<3.0.0.dev0,>=2.18.0->google-api-core->google-generativeai->pgmpy) (3.4)\n",
      "Requirement already satisfied: urllib3<3,>=1.21.1 in c:\\users\\naiks\\anaconda3\\lib\\site-packages (from requests<3.0.0.dev0,>=2.18.0->google-api-core->google-generativeai->pgmpy) (2.0.7)\n",
      "Requirement already satisfied: certifi>=2017.4.17 in c:\\users\\naiks\\anaconda3\\lib\\site-packages (from requests<3.0.0.dev0,>=2.18.0->google-api-core->google-generativeai->pgmpy) (2024.2.2)\n",
      "Collecting protobuf (from google-generativeai->pgmpy)\n",
      "  Downloading protobuf-5.29.4-cp310-abi3-win_amd64.whl.metadata (592 bytes)\n",
      "Downloading protobuf-5.29.4-cp310-abi3-win_amd64.whl (434 kB)\n",
      "   ---------------------------------------- 0.0/434.5 kB ? eta -:--:--\n",
      "   -- ------------------------------------ 30.7/434.5 kB 660.6 kB/s eta 0:00:01\n",
      "   ------------- -------------------------- 143.4/434.5 kB 1.7 MB/s eta 0:00:01\n",
      "   ------------------------ --------------- 266.2/434.5 kB 1.8 MB/s eta 0:00:01\n",
      "   ----------------------------------- ---- 389.1/434.5 kB 2.0 MB/s eta 0:00:01\n",
      "   ---------------------------------------- 434.5/434.5 kB 2.1 MB/s eta 0:00:00\n",
      "Installing collected packages: protobuf\n",
      "  Attempting uninstall: protobuf\n",
      "    Found existing installation: protobuf 4.25.6\n",
      "    Uninstalling protobuf-4.25.6:\n",
      "      Successfully uninstalled protobuf-4.25.6\n",
      "Successfully installed protobuf-5.29.4\n"
     ]
    },
    {
     "name": "stderr",
     "output_type": "stream",
     "text": [
      "  WARNING: Failed to remove contents in a temporary directory 'C:\\Users\\naiks\\anaconda3\\Lib\\site-packages\\google\\~-pb'.\n",
      "  You can safely remove it manually.\n",
      "ERROR: pip's dependency resolver does not currently take into account all the packages that are installed. This behaviour is the source of the following dependency conflicts.\n",
      "streamlit 1.32.0 requires protobuf<5,>=3.20, but you have protobuf 5.29.4 which is incompatible.\n",
      "tensorflow-intel 2.12.0 requires protobuf!=4.21.0,!=4.21.1,!=4.21.2,!=4.21.3,!=4.21.4,!=4.21.5,<5.0.0dev,>=3.20.3, but you have protobuf 5.29.4 which is incompatible.\n"
     ]
    }
   ],
   "source": [
    "!pip install pgmpy"
   ]
  },
  {
   "cell_type": "code",
   "execution_count": null,
   "id": "8b01f6e0-22e2-466a-8f45-6db72a48a8fb",
   "metadata": {},
   "outputs": [
    {
     "name": "stderr",
     "output_type": "stream",
     "text": [
      "INFO:numexpr.utils:Note: NumExpr detected 16 cores but \"NUMEXPR_MAX_THREADS\" not set, so enforcing safe limit of 8.\n",
      "INFO:numexpr.utils:NumExpr defaulting to 8 threads.\n"
     ]
    }
   ],
   "source": [
    "from pgmpy.models import BayesianNetwork\n",
    "from pgmpy.factors.discrete import TabularCPD\n",
    "from pgmpy.inference import VariableElimination"
   ]
  },
  {
   "cell_type": "code",
   "execution_count": null,
   "id": "e2b16755-72ca-4124-b353-2e9d174b0727",
   "metadata": {},
   "outputs": [],
   "source": [
    "model = BayesianNetwork([\n",
    "    ('Rain','Sprinkler'),\n",
    "    ('Rain','Grass Wet'),\n",
    "    ('Sprinkler', 'Grass Wet')\n",
    "])"
   ]
  },
  {
   "cell_type": "code",
   "execution_count": null,
   "id": "c34cd09e-c9ea-4d8b-9c06-cefa1d53a4e1",
   "metadata": {},
   "outputs": [],
   "source": [
    "cpd_rain = TabularCPD(variable='Rain', variable_card=2, values=[[0.7],[0.3]])\n",
    "\n",
    "cpd_sprinkler = TabularCPD(\n",
    "    variable = 'Sprinkler', variable_card=2,\n",
    "    values=[[0.8, 0.2],\n",
    "            [0.2, 0.8]],\n",
    "    evidence = ['Rain'], evidence_card = [2]\n",
    ")"
   ]
  },
  {
   "cell_type": "code",
   "execution_count": null,
   "id": "d21b914f-c23d-4e11-8912-522f39e92fe5",
   "metadata": {},
   "outputs": [],
   "source": [
    "cpd_grass_wet = TabularCPD(\n",
    "    variable = 'Grass Wet', variable_card=2,\n",
    "    values=[\n",
    "        [0.99, 0.9, 0.8, 0.0],\n",
    "        [0.01, 0.1, 0.2, 1.0]\n",
    "    ],\n",
    "    evidence = ['Sprinkler', 'Rain'], evidence_card = [2, 2]\n",
    ")"
   ]
  },
  {
   "cell_type": "code",
   "execution_count": null,
   "id": "aaae6362-5f9e-4024-a4bd-493c4706de19",
   "metadata": {},
   "outputs": [],
   "source": [
    "model.add_cpds(cpd_rain, cpd_sprinkler, cpd_grass_wet)\n",
    "\n",
    "if model.check_model():\n",
    "    print(\"The Bayesian Network is valid!\\n\")\n",
    "else:\n",
    "    print(\"The Bayesian Network is not valid.\\n\")\n",
    "    \n",
    "inference = VariableElimination(model)\n",
    "\n",
    "result_grass_wet = inference.query(variables=['Grass Wet'])\n",
    "print(\"Probability of Grass Wet:\\n\", result_grass_wet, \"\\n\")"
   ]
  },
  {
   "cell_type": "code",
   "execution_count": null,
   "id": "38a08669-a7fd-49e0-9d8b-437994e5db08",
   "metadata": {},
   "outputs": [],
   "source": [
    "result_rain_given_grass_wet = inference.query(variables = ['Rain'], evidence = {'Grass Wet':1})\n",
    "print(\"Probability of Rain given Grass is Wet:\\n\", result_rain_given_grass_wet)"
   ]
  }
 ],
 "metadata": {
  "kernelspec": {
   "display_name": "Python 3 (ipykernel)",
   "language": "python",
   "name": "python3"
  },
  "language_info": {
   "codemirror_mode": {
    "name": "ipython",
    "version": 3
   },
   "file_extension": ".py",
   "mimetype": "text/x-python",
   "name": "python",
   "nbconvert_exporter": "python",
   "pygments_lexer": "ipython3",
   "version": "3.11.7"
  }
 },
 "nbformat": 4,
 "nbformat_minor": 5
}

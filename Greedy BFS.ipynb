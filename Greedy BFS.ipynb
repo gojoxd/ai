{
 "cells": [
  {
   "cell_type": "code",
   "execution_count": 1,
   "id": "30ba8b80-348b-421a-9759-89ac3d3d9f31",
   "metadata": {},
   "outputs": [
    {
     "name": "stdout",
     "output_type": "stream",
     "text": [
      "Path Found: [(0, 0), (1, 0), (2, 0), (3, 0), (4, 0), (4, 1), (4, 2), (4, 3), (4, 4)]\n"
     ]
    }
   ],
   "source": [
    "import heapq\n",
    "\n",
    "class Node:\n",
    "    def __init__(self, position, h_value, parent=None):\n",
    "        self.position=position\n",
    "        self.h_value=h_value\n",
    "        self.parent=parent\n",
    "        \n",
    "    def __lt__(self, other):\n",
    "        return self.h_value<other.h_value\n",
    "    \n",
    "def heuristic(a,b):\n",
    "    return abs(a[0]-b[0])+abs(a[1]-b[1])\n",
    "\n",
    "def greedy_best_first_search(start, goal, gird):\n",
    "    open_list=[]\n",
    "    closed_list=set()\n",
    "    \n",
    "    start_node=Node(start, heuristic(start, goal))\n",
    "    heapq.heappush(open_list, start_node)\n",
    "    \n",
    "    while open_list:\n",
    "        current_node=heapq.heappop(open_list)\n",
    "        \n",
    "        if current_node.position == goal:\n",
    "            path=[]\n",
    "            while current_node:\n",
    "                path.append(current_node.position)\n",
    "                current_node=current_node.parent\n",
    "            return path[::-1]\n",
    "        \n",
    "        closed_list.add(current_node.position)\n",
    "    \n",
    "        for neighbor in get_neighbors(current_node.position, grid):\n",
    "            if neighbor not in closed_list:\n",
    "                neighbor_node=Node(neighbor, heuristic(neighbor, goal), current_node)\n",
    "                heapq.heappush(open_list, neighbor_node)\n",
    "    \n",
    "    return None\n",
    "\n",
    "def get_neighbors(position, grid):\n",
    "    x, y = position\n",
    "    neighbors=[]\n",
    "    directions=[(-1, 0), (1, 0), (0, -1), (0, 1)]\n",
    "    \n",
    "    for dx, dy in directions:\n",
    "        nx, ny = x + dx, y + dy\n",
    "        \n",
    "        if 0 <= nx < len(grid) and 0 <= ny < len(grid[0]) and grid[nx][ny]!=1:\n",
    "            neighbors.append((nx,ny))\n",
    "            \n",
    "    return neighbors\n",
    "\n",
    "grid = [\n",
    "    [0,0,0,0,0],\n",
    "    [0,1,1,0,0],\n",
    "    [0,1,0,0,0],\n",
    "    [0,1,0,1,0],\n",
    "    [0,0,0,0,0]\n",
    "]\n",
    "\n",
    "start=(0,0)\n",
    "goal=(4,4)\n",
    "\n",
    "path=greedy_best_first_search(start, goal, grid)\n",
    "\n",
    "if path:\n",
    "    print(\"Path Found:\", path)\n",
    "else:\n",
    "    print(\"No Path Found\")"
   ]
  },
  {
   "cell_type": "code",
   "execution_count": null,
   "id": "c48cee0e-993b-41f2-95f0-7cdcaac77d3b",
   "metadata": {},
   "outputs": [],
   "source": []
  }
 ],
 "metadata": {
  "kernelspec": {
   "display_name": "Python 3 (ipykernel)",
   "language": "python",
   "name": "python3"
  },
  "language_info": {
   "codemirror_mode": {
    "name": "ipython",
    "version": 3
   },
   "file_extension": ".py",
   "mimetype": "text/x-python",
   "name": "python",
   "nbconvert_exporter": "python",
   "pygments_lexer": "ipython3",
   "version": "3.11.7"
  }
 },
 "nbformat": 4,
 "nbformat_minor": 5
}

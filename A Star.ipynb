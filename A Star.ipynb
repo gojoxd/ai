{
 "cells": [
  {
   "cell_type": "code",
   "execution_count": 6,
   "id": "54fce945",
   "metadata": {},
   "outputs": [
    {
     "name": "stdout",
     "output_type": "stream",
     "text": [
      "Path:['A', 'G'],Cost:5\n"
     ]
    }
   ],
   "source": [
    "from queue import PriorityQueue\n",
    "\n",
    "def a_star(graph, start, goal, heuristic):\n",
    "    open_set=PriorityQueue()\n",
    "    open_set.put((0,start))\n",
    "    came_from={}\n",
    "    g_score={node:float('inf') for node in graph}\n",
    "    g_score[start]=0\n",
    "    f_score={node:float('inf') for node in graph}\n",
    "    f_score[start]=heuristic[start]\n",
    "    \n",
    "    while not open_set.empty():\n",
    "        _, current=open_set.get()\n",
    "        if current == goal:\n",
    "            path=[]\n",
    "            while current in came_from:\n",
    "                path.append(current)\n",
    "                current=came_from[current]\n",
    "                path.append(start)\n",
    "                return path[::-1], f_score[goal]\n",
    "        for neighbor, cost in graph[current].items():\n",
    "            tentative_g_score=g_score[current]+cost\n",
    "            if tentative_g_score<g_score[neighbor]:\n",
    "                came_from[neighbor]=current\n",
    "                g_score[neighbor]=tentative_g_score\n",
    "                f_score[neighbor]=g_score[neighbor]+heuristic[neighbor]\n",
    "                open_set.put((f_score[neighbor],neighbor))\n",
    "    return None, float('int')\n",
    "\n",
    "graph={\n",
    "    'A':{'B':1,'C':2},\n",
    "    'B':{'C':4,'E':2},\n",
    "    'C':{'D':1,'G':3},\n",
    "    'D':{},\n",
    "    'E':{},\n",
    "    'F':{},\n",
    "    'G':{}\n",
    "}\n",
    "\n",
    "heuristic={'A': 6, 'B': 5, 'C': 4, 'D': 7, 'E': 3, 'F': 2, 'G': 0}\n",
    "\n",
    "start, goal = 'A', 'G'\n",
    "path, cost = a_star(graph, start, goal, heuristic)\n",
    "print(f\"Path:{path},Cost:{cost}\")"
   ]
  }
 ],
 "metadata": {
  "kernelspec": {
   "display_name": "Python 3 (ipykernel)",
   "language": "python",
   "name": "python3"
  },
  "language_info": {
   "codemirror_mode": {
    "name": "ipython",
    "version": 3
   },
   "file_extension": ".py",
   "mimetype": "text/x-python",
   "name": "python",
   "nbconvert_exporter": "python",
   "pygments_lexer": "ipython3",
   "version": "3.11.7"
  }
 },
 "nbformat": 4,
 "nbformat_minor": 5
}

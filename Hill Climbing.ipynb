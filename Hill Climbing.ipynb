{
 "cells": [
  {
   "cell_type": "code",
   "execution_count": 1,
   "id": "8b68209c",
   "metadata": {},
   "outputs": [
    {
     "name": "stdout",
     "output_type": "stream",
     "text": [
      "Path: ['G', 'R', 'D', 'UP', 'J&K', 'L'], Total Cost: 2600\n"
     ]
    }
   ],
   "source": [
    "def hill_climbing(graph, start, goal):\n",
    "    current_node = start\n",
    "    path = []\n",
    "    total_cost = 0  \n",
    "    visited = set() \n",
    "    visited.add(current_node)\n",
    "    \n",
    "    while True:\n",
    "        neighbors = graph.get(current_node, [])\n",
    "        \n",
    "        if current_node == goal:\n",
    "            return path, total_cost\n",
    "        \n",
    "        if not neighbors:\n",
    "            return path, float('inf')  \n",
    "        \n",
    "        best_neighbor = None\n",
    "        best_cost = float('inf')\n",
    "        best_edge_cost = 0\n",
    "        \n",
    "        for neighbor, cost in neighbors:\n",
    "            if neighbor not in visited:  \n",
    "                if cost < best_cost:  \n",
    "                    best_cost = cost\n",
    "                    best_neighbor = neighbor\n",
    "                    best_edge_cost = cost\n",
    "        \n",
    "        if best_neighbor is None:\n",
    "            return path, float('inf')  \n",
    "        \n",
    "        current_node = best_neighbor\n",
    "        path.append(current_node)\n",
    "        total_cost += best_edge_cost  \n",
    "        visited.add(current_node)  \n",
    "\n",
    "graph = {\n",
    "    'M': [('G', 500), ('MP', 700), ('R', 800)],\n",
    "    'G': [('R', 600), ('M', 500)],\n",
    "    'MP': [('M', 700)],\n",
    "    'R': [('D', 400), ('M', 800), ('G', 600)],\n",
    "    'D': [('UP', 200), ('R', 400)],\n",
    "    'UP': [('D', 200), ('J&K', 600)],\n",
    "    'J&K': [('L', 300), ('UP', 600)],\n",
    "}\n",
    "\n",
    "path, cost = hill_climbing(graph, 'M', 'L')\n",
    "print(f\"Path: {path}, Total Cost: {cost}\")"
   ]
  },
  {
   "cell_type": "code",
   "execution_count": null,
   "id": "5438939a",
   "metadata": {},
   "outputs": [],
   "source": []
  }
 ],
 "metadata": {
  "kernelspec": {
   "display_name": "Python 3 (ipykernel)",
   "language": "python",
   "name": "python3"
  },
  "language_info": {
   "codemirror_mode": {
    "name": "ipython",
    "version": 3
   },
   "file_extension": ".py",
   "mimetype": "text/x-python",
   "name": "python",
   "nbconvert_exporter": "python",
   "pygments_lexer": "ipython3",
   "version": "3.11.7"
  }
 },
 "nbformat": 4,
 "nbformat_minor": 5
}

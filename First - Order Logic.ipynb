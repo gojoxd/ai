{
 "cells": [
  {
   "cell_type": "code",
   "execution_count": 1,
   "id": "c52c338c-4f4d-453d-8402-9ffaf8ff8210",
   "metadata": {},
   "outputs": [
    {
     "name": "stdout",
     "output_type": "stream",
     "text": [
      "Clear sky, therefore the weather won't be rainy\n",
      "Cloudy sky, therefore the weather will be rainy\n",
      "Windy sky, therefore the weather won't be rainy\n",
      "----------------------------------\n",
      "Clear sky : Clear sky, therefore the weather won't be rainy\n",
      "Cloudy sky : Cloudy sky, therefore the weather will be rainy\n",
      "Windy sky : Windy sky, therefore the weather won't be rainy\n"
     ]
    }
   ],
   "source": [
    "from sympy.logic.boolalg import And, Or, Not\n",
    "from sympy.abc import x, y\n",
    "\n",
    "weather = lambda season: f\"{season} is a weather\"\n",
    "rainy = lambda season: f\"{season} is rainy\"\n",
    "\n",
    "facts = {\n",
    "    \"Clear\": False,\n",
    "    \"Cloudy\": True,\n",
    "    \"Windy\": False,\n",
    "}\n",
    "\n",
    "def rule(season):\n",
    "    if facts.get(season, False):\n",
    "        return rainy(season)\n",
    "\n",
    "def query(season):\n",
    "    if rule(season):\n",
    "        return f\"{season} sky, therefore the weather will be rainy\"\n",
    "    else:\n",
    "        return f\"{season} sky, therefore the weather won't be rainy\"\n",
    "    \n",
    "    \n",
    "    \n",
    "print(query(\"Clear\"))\n",
    "print(query(\"Cloudy\"))\n",
    "print(query(\"Windy\"))\n",
    "print(\"----------------------------------\")\n",
    "seasons = [\"Clear\", \"Cloudy\", \"Windy\"]\n",
    "for season in seasons:\n",
    "    print(f\"{season} sky : {query(season)}\")"
   ]
  },
  {
   "cell_type": "code",
   "execution_count": null,
   "id": "3caa9d84-02e8-4916-ba3e-d29020c4a574",
   "metadata": {},
   "outputs": [],
   "source": []
  }
 ],
 "metadata": {
  "kernelspec": {
   "display_name": "Python 3 (ipykernel)",
   "language": "python",
   "name": "python3"
  },
  "language_info": {
   "codemirror_mode": {
    "name": "ipython",
    "version": 3
   },
   "file_extension": ".py",
   "mimetype": "text/x-python",
   "name": "python",
   "nbconvert_exporter": "python",
   "pygments_lexer": "ipython3",
   "version": "3.11.7"
  }
 },
 "nbformat": 4,
 "nbformat_minor": 5
}

{
 "cells": [
  {
   "cell_type": "code",
   "execution_count": 1,
   "id": "3d5a4f2c",
   "metadata": {},
   "outputs": [],
   "source": [
    "import heapq\n",
    "\n",
    "def uniform_cost_search(graph, start, goal):\n",
    "    frontier = [(0, start)]   # (cost, node)\n",
    "    came_from = {}\n",
    "    cost_so_far = {start: 0}\n",
    "    \n",
    "    while frontier:\n",
    "        current_cost, current_node = heapq.heappop(frontier)\n",
    "        \n",
    "        if current_node == goal:\n",
    "            break\n",
    "            \n",
    "        for neighbor, cost in graph[current_node]:\n",
    "            new_cost = current_cost + cost\n",
    "            if neighbor not in cost_so_far or new_cost < cost_so_far[neighbor]:\n",
    "                cost_so_far[neighbor] = new_cost\n",
    "                heapq.heappush(frontier, (new_cost,neighbor))\n",
    "                came_from[neighbor] = current_node\n",
    "                \n",
    "    path = []\n",
    "    node = goal\n",
    "    while node != start:\n",
    "        path.append(node)\n",
    "        node = came_from[node]\n",
    "    path.append(start)\n",
    "    path.reverse()\n",
    "    return path, cost_so_far[goal]"
   ]
  },
  {
   "cell_type": "code",
   "execution_count": 2,
   "id": "1718680d",
   "metadata": {},
   "outputs": [
    {
     "name": "stdout",
     "output_type": "stream",
     "text": [
      "path: ['A', 'B', 'C', 'D'],Total Cost: 4\n"
     ]
    }
   ],
   "source": [
    "graph = {\n",
    "    'A': [('B', 1), ('C', 4)],\n",
    "    'B': [('A', 1), ('C', 2),('D', 5)],\n",
    "    'C': [('A', 4),('B', 2), ('D', 1)],\n",
    "    'D': [('B', 5), ('C', 1)]\n",
    "}\n",
    "\n",
    "path, cost = uniform_cost_search(graph, 'A', 'D')\n",
    "print(f\"path: {path},Total Cost: {cost}\")"
   ]
  },
  {
   "cell_type": "code",
   "execution_count": 3,
   "id": "485a56ea",
   "metadata": {},
   "outputs": [
    {
     "name": "stdout",
     "output_type": "stream",
     "text": [
      "path: ['M', 'R', 'D', 'UP', 'J&K', 'L'],Total Cost: 2300\n"
     ]
    }
   ],
   "source": [
    " graph = {\n",
    "     'M':[('G',500),('MP',700),('R',800)],\n",
    "     'G':[('R',600),('M',500)],\n",
    "     'MP':[('M',700)],\n",
    "     'R':[('D',400),('M',800),('G',600)],\n",
    "     'D':[('UP',200),('R',400)],\n",
    "     'UP':[('D',200),('J&K',600)],\n",
    "     'J&K':[('L',300),('UP',600)]\n",
    " }\n",
    "path, cost = uniform_cost_search(graph, 'M', 'L')\n",
    "print(f\"path: {path},Total Cost: {cost}\")"
   ]
  },
  {
   "cell_type": "code",
   "execution_count": null,
   "id": "4456441e",
   "metadata": {},
   "outputs": [],
   "source": []
  }
 ],
 "metadata": {
  "kernelspec": {
   "display_name": "Python 3 (ipykernel)",
   "language": "python",
   "name": "python3"
  },
  "language_info": {
   "codemirror_mode": {
    "name": "ipython",
    "version": 3
   },
   "file_extension": ".py",
   "mimetype": "text/x-python",
   "name": "python",
   "nbconvert_exporter": "python",
   "pygments_lexer": "ipython3",
   "version": "3.11.7"
  }
 },
 "nbformat": 4,
 "nbformat_minor": 5
}

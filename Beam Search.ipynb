{
 "cells": [
  {
   "cell_type": "code",
   "execution_count": 1,
   "id": "c6e7983f-7698-40e0-91ed-fe8f5c58a791",
   "metadata": {},
   "outputs": [
    {
     "name": "stdout",
     "output_type": "stream",
     "text": [
      "Best position found: 6\n",
      "Objective value at this position: 24\n"
     ]
    }
   ],
   "source": [
    "import heapq\n",
    "\n",
    "def objective_function(x):\n",
    "    return-(x**2)+10*x\n",
    "\n",
    "def beam_search(start, obejctive_function, beam_width=3, iterations=10):\n",
    "    open_list=[start]\n",
    "    for _ in range(iterations):\n",
    "        neighbors = [x+1 for x in open_list]+[x-1 for x in open_list]\n",
    "        scored_neighbors=[(neighbor, obejctive_function(neighbor)) for neighbor in neighbors]\n",
    "        open_list=[x[0] for x in sorted(scored_neighbors, key=lambda x:x[1], reverse=True)[:beam_width]]\n",
    "    return open_list[0]\n",
    "\n",
    "start = 0\n",
    "best_position=beam_search(start, objective_function, beam_width=3)\n",
    "\n",
    "print(\"Best position found:\", best_position)\n",
    "print(\"Objective value at this position:\", objective_function(best_position))"
   ]
  },
  {
   "cell_type": "code",
   "execution_count": null,
   "id": "74a229aa-afa2-47b5-8886-d5f20d384d1a",
   "metadata": {},
   "outputs": [],
   "source": []
  }
 ],
 "metadata": {
  "kernelspec": {
   "display_name": "Python 3 (ipykernel)",
   "language": "python",
   "name": "python3"
  },
  "language_info": {
   "codemirror_mode": {
    "name": "ipython",
    "version": 3
   },
   "file_extension": ".py",
   "mimetype": "text/x-python",
   "name": "python",
   "nbconvert_exporter": "python",
   "pygments_lexer": "ipython3",
   "version": "3.11.7"
  }
 },
 "nbformat": 4,
 "nbformat_minor": 5
}
